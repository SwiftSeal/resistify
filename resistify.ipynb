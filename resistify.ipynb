{
 "cells": [
  {
   "cell_type": "markdown",
   "metadata": {},
   "source": [
    "# Resistify, on Colab!\n",
    "\n",
    "This notebook lets you try out `Resistify` without having to install it locally.\n",
    "Google Colab is quite limited in the resources that it gives, so it will be a lot slower than running locally.\n",
    "\n",
    "To get started with this notebook, you must first upload a fasta file of your sequences.\n",
    "To do this, click on the file button on the left side.\n",
    "In the files panel, there should be the option to upload your file.\n",
    "Make sure your file has a `.fasta` or `.fa` suffix otherwise the notebook won't detect it.\n",
    "Multiple files are not supported - it will just use the first file it finds!\n",
    "\n",
    "Then, simply run each of the steps below to install, run, view, and download the results of `Resistify`."
   ]
  },
  {
   "cell_type": "code",
   "execution_count": null,
   "metadata": {
    "vscode": {
     "languageId": "plaintext"
    }
   },
   "outputs": [],
   "source": [
    "%%capture\n",
    "# @title Install Resistify \n",
    "!pip install -q condacolab\n",
    "import condacolab\n",
    "condacolab.install()\n",
    "!conda install bioconda::resistify"
   ]
  },
  {
   "cell_type": "code",
   "execution_count": null,
   "metadata": {
    "vscode": {
     "languageId": "plaintext"
    }
   },
   "outputs": [],
   "source": [
    "# @title Run Resistify\n",
    "import glob\n",
    "fasta_file = glob.glob(\"*.fasta\") + glob.glob(\"*.fa\")\n",
    "fasta_file = fasta_file[0]\n",
    "print(f\"Running on {fasta_file}\")\n",
    "!resistify nlr $fasta_file -o result"
   ]
  },
  {
   "cell_type": "code",
   "execution_count": null,
   "metadata": {
    "vscode": {
     "languageId": "plaintext"
    }
   },
   "outputs": [],
   "source": [
    "# @title View your results!\n",
    "\n",
    "import pandas as pd\n",
    "pd.read_csv(\"result/results.tsv\", sep = \"\\t\")"
   ]
  },
  {
   "cell_type": "code",
   "execution_count": null,
   "metadata": {
    "vscode": {
     "languageId": "plaintext"
    }
   },
   "outputs": [],
   "source": [
    "# @title Download your results!\n",
    "\n",
    "from google.colab import files\n",
    "!zip -r resistify_result.zip result\n",
    "files.download(\"resistify_result.zip\")"
   ]
  }
 ],
 "metadata": {
  "language_info": {
   "name": "python"
  }
 },
 "nbformat": 4,
 "nbformat_minor": 2
}
