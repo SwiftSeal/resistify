{
 "cells": [
  {
   "cell_type": "markdown",
   "metadata": {},
   "source": [
    "# Resistify, on Colab!\n",
    "\n",
    "This notebook lets you try out `Resistify` without having to install it locally.\n",
    "Google Colab is quite limited in the resources that it gives, so it will be a lot slower than running locally.\n",
    "\n",
    "In this example, we'll be downloading proteins from the potato genome and taking a random selection of ~1000.\n",
    "If you'd like to use your own sequences, you can use the bar on the left to upload a file of your choice, and modify the code to use your respective fasta file.\n",
    "\n",
    "To get started, use the bar at the top to start a session.\n",
    "You'll want to select a GPU instance so that the PRR pipeline runs quickly!\n",
    "Otherwise, a CPU instance will be fine for the NLR pipeline.\n",
    "Once you are connected, you can run each of the code blocks below to install and run `Resistify`.\n",
    "\n",
    "## Download Resistify"
   ]
  },
  {
   "cell_type": "code",
   "execution_count": null,
   "metadata": {
    "vscode": {
     "languageId": "plaintext"
    }
   },
   "outputs": [],
   "source": [
    "%%capture\n",
    "!pip install -q condacolab\n",
    "import condacolab\n",
    "condacolab.install()\n",
    "!conda install pytorch-gpu bioconda::resistify seqkit\n",
    "# Optional patch to latest dev version\n",
    "# !pip install --force-reinstall --no-deps git+https://github.com/swiftseal/resistify"
   ]
  },
  {
   "cell_type": "markdown",
   "metadata": {},
   "source": [
    "## Download some proteins\n",
    "\n",
    "Lets start by downloading the potato genome"
   ]
  },
  {
   "cell_type": "code",
   "execution_count": null,
   "metadata": {
    "vscode": {
     "languageId": "plaintext"
    }
   },
   "outputs": [],
   "source": [
    "!curl -o dm.fa.gz -O \"https://spuddb.uga.edu/data/DM_1-3_516_R44_potato.v6.1.hc_gene_models.pep.fa.gz\"\n",
    "!gunzip -f dm.fa.gz"
   ]
  },
  {
   "cell_type": "markdown",
   "metadata": {},
   "source": [
    "Then, take a random selection of ~1000 proteins"
   ]
  },
  {
   "cell_type": "code",
   "execution_count": null,
   "metadata": {
    "vscode": {
     "languageId": "plaintext"
    }
   },
   "outputs": [],
   "source": [
    "!seqkit sample -n 1000 dm.fa > sample.fa"
   ]
  },
  {
   "cell_type": "markdown",
   "metadata": {},
   "source": [
    "Now we are ready to try `Resistify`!"
   ]
  },
  {
   "cell_type": "markdown",
   "metadata": {},
   "source": [
    "## Predict NLRs\n",
    "\n",
    "Let's use `Resistify` to identify NLRs from our mini potato genome.\n",
    "You should see some logs being produced - if you're unlucky, there might not be any NLRs in the random selection.\n",
    "If this happens, you can always just re-run the previous code block to get a new selection!"
   ]
  },
  {
   "cell_type": "code",
   "execution_count": null,
   "metadata": {
    "vscode": {
     "languageId": "plaintext"
    }
   },
   "outputs": [],
   "source": [
    "!resistify nlr sample.fa -o nlr_result"
   ]
  },
  {
   "cell_type": "markdown",
   "metadata": {},
   "source": [
    "Let's take a look at the results table"
   ]
  },
  {
   "cell_type": "code",
   "execution_count": null,
   "metadata": {
    "vscode": {
     "languageId": "plaintext"
    }
   },
   "outputs": [],
   "source": [
    "import pandas as pd\n",
    "pd.read_csv('nlr_result/results.tsv', sep='\\t')"
   ]
  },
  {
   "cell_type": "markdown",
   "metadata": {},
   "source": [
    "## Predict PRRs\n",
    "\n",
    "Now, let's identify some RLP/RLK sequences.\n",
    "Because the PRR pipeline uses TMbed, it does unfortunately need a GPU to run quickly.\n",
    "You *can* try using a CPU only session, but you might be sitting there for a while..."
   ]
  },
  {
   "cell_type": "code",
   "execution_count": null,
   "metadata": {
    "vscode": {
     "languageId": "plaintext"
    }
   },
   "outputs": [],
   "source": [
    "!resistify prr sample.fa -o prr_result"
   ]
  },
  {
   "cell_type": "markdown",
   "metadata": {},
   "source": [
    "Again, let's have a look at the results"
   ]
  },
  {
   "cell_type": "code",
   "execution_count": null,
   "metadata": {
    "vscode": {
     "languageId": "plaintext"
    }
   },
   "outputs": [],
   "source": [
    "import pandas as pd\n",
    "pd.read_csv('prr_result/results.tsv', sep='\\t')"
   ]
  }
 ],
 "metadata": {
  "language_info": {
   "name": "python"
  }
 },
 "nbformat": 4,
 "nbformat_minor": 2
}
